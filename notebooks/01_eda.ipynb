{
 "cells": [
  {
   "cell_type": "markdown",
   "id": "eba98ed7",
   "metadata": {},
   "source": [
    "# Exploratory Data Analysis\n",
    "Initial exploration of futures data."
   ]
  }
 ],
 "metadata": {
  "language_info": {
   "name": "python"
  }
 },
 "nbformat": 4,
 "nbformat_minor": 5
}
