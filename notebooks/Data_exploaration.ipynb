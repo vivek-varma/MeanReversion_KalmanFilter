{
 "cells": [
  {
   "cell_type": "markdown",
   "id": "634bf93a",
   "metadata": {},
   "source": [
    "# Data Exploration in R\n",
    "This notebook demonstrates basic data exploration for futures data using R."
   ]
  },
  {
   "cell_type": "code",
   "execution_count": null,
   "id": "f6b6e6a4",
   "metadata": {
    "vscode": {
     "languageId": "R"
    }
   },
   "outputs": [],
   "source": [
    "# Load required libraries\n",
    "library(tidyverse)\n",
    "library(arrow)  # For reading parquet files"
   ]
  },
  {
   "cell_type": "code",
   "execution_count": null,
   "id": "4926001f",
   "metadata": {
    "vscode": {
     "languageId": "R"
    }
   },
   "outputs": [],
   "source": [
    "# Read a sample parquet batch\n",
    "df <- read_parquet('data/processed/batches/ZNZF_1m_batch1.parquet')\n",
    "head(df)"
   ]
  },
  {
   "cell_type": "code",
   "execution_count": null,
   "id": "5ad91d19",
   "metadata": {
    "vscode": {
     "languageId": "R"
    }
   },
   "outputs": [],
   "source": [
    "# Summary statistics\n",
    "summary(df)"
   ]
  },
  {
   "cell_type": "code",
   "execution_count": null,
   "id": "287c18f6",
   "metadata": {
    "vscode": {
     "languageId": "R"
    }
   },
   "outputs": [],
   "source": [
    "# Plot close prices for each symbol\n",
    "df_long <- df %>% pivot_longer(-ts_event, names_to = 'symbol', values_to = 'close')\n",
    "ggplot(df_long, aes(x = ts_event, y = close, color = symbol)) + geom_line() + theme_minimal()"
   ]
  }
 ],
 "metadata": {
  "language_info": {
   "name": "python"
  }
 },
 "nbformat": 4,
 "nbformat_minor": 5
}
