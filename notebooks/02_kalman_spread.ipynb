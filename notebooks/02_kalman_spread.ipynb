{
 "cells": [
  {
   "cell_type": "markdown",
   "id": "8b9060dc",
   "metadata": {},
   "source": [
    "# Kalman Spread Parameter in Trading"
   ]
  },
  {
   "cell_type": "code",
   "execution_count": 4,
   "id": "f7d557fd",
   "metadata": {},
   "outputs": [
    {
     "name": "stdout",
     "output_type": "stream",
     "text": [
      "Requirement already satisfied: polars in /usr/local/python/3.12.1/lib/python3.12/site-packages (1.31.0)\n",
      "Collecting pykalman\n",
      "  Downloading pykalman-0.10.1-py2.py3-none-any.whl.metadata (9.5 kB)\n",
      "Requirement already satisfied: numpy<3 in /home/codespace/.local/lib/python3.12/site-packages (from pykalman) (2.2.5)\n",
      "Requirement already satisfied: packaging in /home/codespace/.local/lib/python3.12/site-packages (from pykalman) (25.0)\n",
      "Collecting pykalman\n",
      "  Downloading pykalman-0.10.1-py2.py3-none-any.whl.metadata (9.5 kB)\n",
      "Requirement already satisfied: numpy<3 in /home/codespace/.local/lib/python3.12/site-packages (from pykalman) (2.2.5)\n",
      "Requirement already satisfied: packaging in /home/codespace/.local/lib/python3.12/site-packages (from pykalman) (25.0)\n",
      "Collecting scikit-base<0.13.0 (from pykalman)\n",
      "  Downloading scikit_base-0.12.4-py3-none-any.whl.metadata (8.8 kB)\n",
      "Requirement already satisfied: scipy<2.0.0 in /home/codespace/.local/lib/python3.12/site-packages (from pykalman) (1.15.2)\n",
      "Downloading pykalman-0.10.1-py2.py3-none-any.whl (248 kB)\n",
      "Collecting scikit-base<0.13.0 (from pykalman)\n",
      "  Downloading scikit_base-0.12.4-py3-none-any.whl.metadata (8.8 kB)\n",
      "Requirement already satisfied: scipy<2.0.0 in /home/codespace/.local/lib/python3.12/site-packages (from pykalman) (1.15.2)\n",
      "Downloading pykalman-0.10.1-py2.py3-none-any.whl (248 kB)\n",
      "Downloading scikit_base-0.12.4-py3-none-any.whl (145 kB)\n",
      "Downloading scikit_base-0.12.4-py3-none-any.whl (145 kB)\n",
      "Installing collected packages: scikit-base, pykalman\n",
      "\u001b[?25lInstalling collected packages: scikit-base, pykalman\n",
      "\u001b[2K   \u001b[90m━━━━━━━━━━━━━━━━━━━━━━━━━━━━━━━━━━━━━━━━\u001b[0m \u001b[32m2/2\u001b[0m [pykalman]\n",
      "\u001b[1A\u001b[2KSuccessfully installed pykalman-0.10.1 scikit-base-0.12.4\n",
      "\u001b[2K   \u001b[90m━━━━━━━━━━━━━━━━━━━━━━━━━━━━━━━━━━━━━━━━\u001b[0m \u001b[32m2/2\u001b[0m [pykalman]\n",
      "\u001b[1A\u001b[2KSuccessfully installed pykalman-0.10.1 scikit-base-0.12.4\n"
     ]
    }
   ],
   "source": [
    "# 0. Imports & I/O ------------------------------------------------------\n",
    "!pip install polars pykalman\n",
    "import polars as pl\n",
    "import numpy as np\n",
    "from pykalman import KalmanFilter\n",
    "import matplotlib.pyplot as plt"
   ]
  },
  {
   "cell_type": "code",
   "execution_count": 6,
   "id": "cffed2cc",
   "metadata": {},
   "outputs": [],
   "source": [
    "df = pl.read_parquet(\"../data/processed/ZNZF_1m.parquet\") \\\n",
    "       .sort(\"ts_event\") \\\n",
    "       .with_columns(pl.col(\"ts_event\").alias(\"dt\"))  # easier alias"
   ]
  },
  {
   "cell_type": "code",
   "execution_count": 7,
   "id": "f74304f1",
   "metadata": {},
   "outputs": [],
   "source": [
    "kf = KalmanFilter(\n",
    "    transition_matrices      = np.eye(2),\n",
    "    observation_matrices     = np.array([[df['ZF'][0], 1.0]]),\n",
    "    transition_covariance    = np.eye(2) * 1e-4,\n",
    "    observation_covariance   = np.array([[1e-2]]),\n",
    "    initial_state_mean       = [1.0, 0.0],\n",
    "    initial_state_covariance = np.eye(2)\n",
    ")\n",
    "\n",
    "state = [kf.initial_state_mean]"
   ]
  },
  {
   "cell_type": "code",
   "execution_count": 8,
   "id": "0708ed6b",
   "metadata": {},
   "outputs": [],
   "source": [
    "for a, b in zip(df['ZN'][1:], df['ZF'][1:]):\n",
    "    H = np.array([[b, 1.0]])\n",
    "    x_prev = state[-1]\n",
    "    K = (kf.transition_covariance*2) @ H.T @ \\\n",
    "        np.linalg.inv(H @ (kf.transition_covariance*2) @ H.T + kf.observation_covariance)\n",
    "    x_new = x_prev + K[:, 0] * (a - H @ x_prev)\n",
    "    state.append(x_new)\n",
    "\n",
    "state = np.vstack(state)\n",
    "df = df.with_columns([\n",
    "        pl.Series(\"beta\",  state[:,0]),\n",
    "        pl.Series(\"alpha\", state[:,1]),\n",
    "        pl.Series(\"spread\", df['ZN'] - state[:,0]*df['ZF'] - state[:,1])\n",
    "     ])"
   ]
  },
  {
   "cell_type": "code",
   "execution_count": null,
   "id": "d707994c",
   "metadata": {},
   "outputs": [],
   "source": [
    "k = 0.01\n",
    "mu, var, z = 0.0, 1.0, []\n",
    "for s in df['spread']:\n",
    "    mu  = (1-k)*mu  + k*s\n",
    "    var = (1-k)*var + k*(s-mu)**2\n",
    "    z.append((s - mu) / np.sqrt(var + 1e-9))\n",
    "df = df.with_columns(pl.Series(\"z\", z))"
   ]
  },
  {
   "cell_type": "code",
   "execution_count": 11,
   "id": "9b078ed2",
   "metadata": {},
   "outputs": [],
   "source": [
    "ENTRY, EXIT, STOP = 2.0, 0.3, 5.0\n",
    "pos, pnl = 0, [0]\n",
    "\n",
    "for i in range(1, df.height):\n",
    "    z_now = df['z'][i]\n",
    "\n",
    "    if pos and (abs(z_now) < EXIT or abs(z_now) > STOP):\n",
    "        pos = 0\n",
    "    elif pos == 0 and abs(z_now) > ENTRY:\n",
    "        pos = -np.sign(z_now)\n",
    "\n",
    "    pnl.append(pnl[-1] + pos * (df['spread'][i] - df['spread'][i-1]))\n",
    "\n",
    "df = df.with_columns(\n",
    "    pl.Series(\"pos\", [0]+[pos]*(df.height-1)),\n",
    "    pl.Series(\"pnl\", pnl, dtype=pl.Float64)\n",
    ")\n"
   ]
  },
  {
   "cell_type": "code",
   "execution_count": 12,
   "id": "5707c11f",
   "metadata": {},
   "outputs": [
    {
     "name": "stdout",
     "output_type": "stream",
     "text": [
      "Strategy Sharpe (no costs): -7.29\n"
     ]
    },
    {
     "data": {
      "image/png": "[encoded data removed]",
      "text/plain": [
       "<Figure size 1000x400 with 1 Axes>"
      ]
     },
     "metadata": {},
     "output_type": "display_data"
    }
   ],
   "source": [
    "# 4. Quick performance view ---------------------------------------------\n",
    "ret = np.diff(pnl)\n",
    "sharpe = np.mean(ret)/np.std(ret) * np.sqrt(252*6.5*12)\n",
    "print(\"Strategy Sharpe (no costs):\", round(sharpe,2))\n",
    "\n",
    "plt.figure(figsize=(10,4))\n",
    "plt.plot(df['dt'], df['pnl'])\n",
    "plt.title(\"Cumulative PnL (ticks)\")\n",
    "plt.show()"
   ]
  },
  {
   "cell_type": "code",
   "execution_count": null,
   "id": "abebf677",
   "metadata": {},
   "outputs": [],
   "source": []
  }
 ],
 "metadata": {
  "kernelspec": {
   "display_name": "Python 3 (ipykernel)",
   "language": "python",
   "name": "python3"
  },
  "language_info": {
   "codemirror_mode": {
    "name": "ipython",
    "version": 3
   },
   "file_extension": ".py",
   "mimetype": "text/x-python",
   "name": "python",
   "nbconvert_exporter": "python",
   "pygments_lexer": "ipython3",
   "version": "3.12.1"
  }
 },
 "nbformat": 4,
 "nbformat_minor": 5
}
