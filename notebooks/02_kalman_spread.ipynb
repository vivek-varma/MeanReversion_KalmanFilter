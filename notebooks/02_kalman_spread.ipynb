{
 "cells": [
  {
   "cell_type": "markdown",
   "id": "8b9060dc",
   "metadata": {},
   "source": [
    "# Kalman Spread Parameter Sweeps\n",
    "Parameter sweeps for Kalman filter on futures spread."
   ]
  }
 ],
 "metadata": {
  "language_info": {
   "name": "python"
  }
 },
 "nbformat": 4,
 "nbformat_minor": 5
}
